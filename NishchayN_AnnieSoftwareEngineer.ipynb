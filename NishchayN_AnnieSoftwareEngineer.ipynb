{
 "cells": [
  {
   "cell_type": "markdown",
   "id": "302377ea",
   "metadata": {},
   "source": [
    "Importing of Data"
   ]
  },
  {
   "cell_type": "code",
   "execution_count": 1,
   "id": "b5abbb40",
   "metadata": {},
   "outputs": [],
   "source": [
    "# Importing DataSet \n",
    "import pandas as pd\n",
    "data = pd.read_csv('SMSSpamCollection.txt', sep=\"\\t\",names=[\"label\",\"msg\"])"
   ]
  },
  {
   "cell_type": "code",
   "execution_count": 2,
   "id": "a8812d15",
   "metadata": {},
   "outputs": [
    {
     "data": {
      "text/plain": [
       "<bound method NDFrame.describe of      label                                                msg\n",
       "0      ham  Go until jurong point, crazy.. Available only ...\n",
       "1      ham                      Ok lar... Joking wif u oni...\n",
       "2     spam  Free entry in 2 a wkly comp to win FA Cup fina...\n",
       "3      ham  U dun say so early hor... U c already then say...\n",
       "4      ham  Nah I don't think he goes to usf, he lives aro...\n",
       "...    ...                                                ...\n",
       "5567  spam  This is the 2nd time we have tried 2 contact u...\n",
       "5568   ham               Will ü b going to esplanade fr home?\n",
       "5569   ham  Pity, * was in mood for that. So...any other s...\n",
       "5570   ham  The guy did some bitching but I acted like i'd...\n",
       "5571   ham                         Rofl. Its true to its name\n",
       "\n",
       "[5572 rows x 2 columns]>"
      ]
     },
     "execution_count": 2,
     "metadata": {},
     "output_type": "execute_result"
    }
   ],
   "source": [
    "# Viewing the Data Set Imported\n",
    "data.describe"
   ]
  },
  {
   "cell_type": "code",
   "execution_count": 3,
   "id": "41ffc5fb",
   "metadata": {},
   "outputs": [
    {
     "data": {
      "text/html": [
       "<div>\n",
       "<style scoped>\n",
       "    .dataframe tbody tr th:only-of-type {\n",
       "        vertical-align: middle;\n",
       "    }\n",
       "\n",
       "    .dataframe tbody tr th {\n",
       "        vertical-align: top;\n",
       "    }\n",
       "\n",
       "    .dataframe thead th {\n",
       "        text-align: right;\n",
       "    }\n",
       "</style>\n",
       "<table border=\"1\" class=\"dataframe\">\n",
       "  <thead>\n",
       "    <tr style=\"text-align: right;\">\n",
       "      <th></th>\n",
       "      <th>label</th>\n",
       "      <th>msg</th>\n",
       "    </tr>\n",
       "  </thead>\n",
       "  <tbody>\n",
       "    <tr>\n",
       "      <th>0</th>\n",
       "      <td>ham</td>\n",
       "      <td>Go until jurong point, crazy.. Available only ...</td>\n",
       "    </tr>\n",
       "    <tr>\n",
       "      <th>1</th>\n",
       "      <td>ham</td>\n",
       "      <td>Ok lar... Joking wif u oni...</td>\n",
       "    </tr>\n",
       "    <tr>\n",
       "      <th>2</th>\n",
       "      <td>spam</td>\n",
       "      <td>Free entry in 2 a wkly comp to win FA Cup fina...</td>\n",
       "    </tr>\n",
       "    <tr>\n",
       "      <th>3</th>\n",
       "      <td>ham</td>\n",
       "      <td>U dun say so early hor... U c already then say...</td>\n",
       "    </tr>\n",
       "    <tr>\n",
       "      <th>4</th>\n",
       "      <td>ham</td>\n",
       "      <td>Nah I don't think he goes to usf, he lives aro...</td>\n",
       "    </tr>\n",
       "  </tbody>\n",
       "</table>\n",
       "</div>"
      ],
      "text/plain": [
       "  label                                                msg\n",
       "0   ham  Go until jurong point, crazy.. Available only ...\n",
       "1   ham                      Ok lar... Joking wif u oni...\n",
       "2  spam  Free entry in 2 a wkly comp to win FA Cup fina...\n",
       "3   ham  U dun say so early hor... U c already then say...\n",
       "4   ham  Nah I don't think he goes to usf, he lives aro..."
      ]
     },
     "execution_count": 3,
     "metadata": {},
     "output_type": "execute_result"
    }
   ],
   "source": [
    "data.head()"
   ]
  },
  {
   "cell_type": "markdown",
   "id": "8b9e577c",
   "metadata": {},
   "source": [
    "Pre- Processing of Data"
   ]
  },
  {
   "cell_type": "code",
   "execution_count": 4,
   "id": "f3c1c047",
   "metadata": {},
   "outputs": [
    {
     "data": {
      "text/plain": [
       "label    0\n",
       "msg      0\n",
       "dtype: int64"
      ]
     },
     "execution_count": 4,
     "metadata": {},
     "output_type": "execute_result"
    }
   ],
   "source": [
    "# Drop of Duplicate Data and remove of Null Values\n",
    "data.isnull().sum()"
   ]
  },
  {
   "cell_type": "code",
   "execution_count": 5,
   "id": "b1377d7a",
   "metadata": {},
   "outputs": [
    {
     "data": {
      "text/html": [
       "<div>\n",
       "<style scoped>\n",
       "    .dataframe tbody tr th:only-of-type {\n",
       "        vertical-align: middle;\n",
       "    }\n",
       "\n",
       "    .dataframe tbody tr th {\n",
       "        vertical-align: top;\n",
       "    }\n",
       "\n",
       "    .dataframe thead th {\n",
       "        text-align: right;\n",
       "    }\n",
       "</style>\n",
       "<table border=\"1\" class=\"dataframe\">\n",
       "  <thead>\n",
       "    <tr style=\"text-align: right;\">\n",
       "      <th></th>\n",
       "      <th>label</th>\n",
       "      <th>msg</th>\n",
       "      <th>label_num</th>\n",
       "    </tr>\n",
       "  </thead>\n",
       "  <tbody>\n",
       "    <tr>\n",
       "      <th>0</th>\n",
       "      <td>ham</td>\n",
       "      <td>Go until jurong point, crazy.. Available only ...</td>\n",
       "      <td>0</td>\n",
       "    </tr>\n",
       "    <tr>\n",
       "      <th>1</th>\n",
       "      <td>ham</td>\n",
       "      <td>Ok lar... Joking wif u oni...</td>\n",
       "      <td>0</td>\n",
       "    </tr>\n",
       "    <tr>\n",
       "      <th>2</th>\n",
       "      <td>spam</td>\n",
       "      <td>Free entry in 2 a wkly comp to win FA Cup fina...</td>\n",
       "      <td>1</td>\n",
       "    </tr>\n",
       "    <tr>\n",
       "      <th>3</th>\n",
       "      <td>ham</td>\n",
       "      <td>U dun say so early hor... U c already then say...</td>\n",
       "      <td>0</td>\n",
       "    </tr>\n",
       "    <tr>\n",
       "      <th>4</th>\n",
       "      <td>ham</td>\n",
       "      <td>Nah I don't think he goes to usf, he lives aro...</td>\n",
       "      <td>0</td>\n",
       "    </tr>\n",
       "  </tbody>\n",
       "</table>\n",
       "</div>"
      ],
      "text/plain": [
       "  label                                                msg  label_num\n",
       "0   ham  Go until jurong point, crazy.. Available only ...          0\n",
       "1   ham                      Ok lar... Joking wif u oni...          0\n",
       "2  spam  Free entry in 2 a wkly comp to win FA Cup fina...          1\n",
       "3   ham  U dun say so early hor... U c already then say...          0\n",
       "4   ham  Nah I don't think he goes to usf, he lives aro...          0"
      ]
     },
     "execution_count": 5,
     "metadata": {},
     "output_type": "execute_result"
    }
   ],
   "source": [
    "# Convert the label value to 1-> spam and 0-> ham\n",
    "data['label_num'] = data.label.map({'ham':0, 'spam':1})\n",
    "data.head()"
   ]
  },
  {
   "cell_type": "code",
   "execution_count": 6,
   "id": "c00a124c",
   "metadata": {},
   "outputs": [
    {
     "name": "stderr",
     "output_type": "stream",
     "text": [
      "[nltk_data] Downloading package stopwords to\n",
      "[nltk_data]     C:\\Users\\Admin\\AppData\\Roaming\\nltk_data...\n",
      "[nltk_data]   Package stopwords is already up-to-date!\n"
     ]
    }
   ],
   "source": [
    "# Getting required frame works\n",
    "import re\n",
    "import nltk\n",
    "nltk.download('stopwords')\n",
    "from nltk.stem import WordNetLemmatizer\n",
    "from nltk.corpus import stopwords\n",
    "wordNet = WordNetLemmatizer()"
   ]
  },
  {
   "cell_type": "code",
   "execution_count": 7,
   "id": "ad7398ad",
   "metadata": {},
   "outputs": [],
   "source": [
    "pre_pro = []\n",
    "\n",
    "for i in range(len(data['msg'])):\n",
    "    \n",
    "    # Substituting all letters other than Alphabets\n",
    "    rev = re.sub('[^a-zA-Z]',' ',data['msg'][i])\n",
    "    \n",
    "    # Converting all to lower case\n",
    "    rev = rev.lower()\n",
    "    rev = rev.split()\n",
    "    \n",
    "    # Lemmatizer is used to obtain the meaningfull words from words in sentences\n",
    "    rev = [wordNet.lemmatize(word) for word in rev if word not in set(stopwords.words('english'))]\n",
    "    rev = ' '.join(rev)\n",
    "    pre_pro.append(rev)"
   ]
  },
  {
   "cell_type": "markdown",
   "id": "7fd08be3",
   "metadata": {},
   "source": [
    "Model Creation"
   ]
  },
  {
   "cell_type": "code",
   "execution_count": 8,
   "id": "0fcbacb1",
   "metadata": {},
   "outputs": [],
   "source": [
    "# Using Tfid Vectorizer to transform the string array to vector of frequency count\n",
    "from sklearn.feature_extraction.text import TfidfVectorizer\n",
    "cv = TfidfVectorizer()\n",
    "X = cv.fit_transform(pre_pro).toarray()"
   ]
  },
  {
   "cell_type": "code",
   "execution_count": 9,
   "id": "8ad90aaa",
   "metadata": {},
   "outputs": [],
   "source": [
    "y = data['label_num']\n",
    "from sklearn.model_selection import train_test_split\n",
    "X_train, X_test, y_train, y_test = train_test_split(X, y, test_size=0.20, random_state = 0)"
   ]
  },
  {
   "cell_type": "code",
   "execution_count": 10,
   "id": "0d61f673",
   "metadata": {},
   "outputs": [],
   "source": [
    "# Using Naive Bayes to create model\n",
    "from sklearn.naive_bayes import MultinomialNB\n",
    "spam_model = MultinomialNB().fit(X_train,y_train)\n",
    "y_pred = spam_model.predict(X_test)"
   ]
  },
  {
   "cell_type": "code",
   "execution_count": 11,
   "id": "78a94035",
   "metadata": {},
   "outputs": [
    {
     "name": "stdout",
     "output_type": "stream",
     "text": [
      "Accuracy : 0.9721973094170404\n",
      "\n",
      " Confusion Matrix\n"
     ]
    },
    {
     "data": {
      "text/plain": [
       "array([[955,   0],\n",
       "       [ 31, 129]], dtype=int64)"
      ]
     },
     "execution_count": 11,
     "metadata": {},
     "output_type": "execute_result"
    }
   ],
   "source": [
    "# Getting Accuracy Score and Confusion matrix for test set\n",
    "from sklearn.metrics import accuracy_score, confusion_matrix\n",
    "acc = accuracy_score(y_test, y_pred)\n",
    "print('Accuracy :', acc)\n",
    "\n",
    "conf = confusion_matrix(y_test, y_pred)\n",
    "print('\\n Confusion Matrix')\n",
    "conf"
   ]
  },
  {
   "cell_type": "markdown",
   "id": "8b15e3fe",
   "metadata": {},
   "source": [
    "Getting User Input and Checking the Model"
   ]
  },
  {
   "cell_type": "code",
   "execution_count": 16,
   "id": "d2f907ea",
   "metadata": {},
   "outputs": [
    {
     "name": "stdout",
     "output_type": "stream",
     "text": [
      "Enter the No.of Strings to Be Entered: 1\n",
      "Enter String: YOU ARE CHOSEN TO RECEIVE A å£350 AWARD! Pls call claim to collect your award which you are selected\n",
      "\n",
      "Results:\n",
      "YOU ARE CHOSEN TO RECEIVE A å£350 AWARD! Pls call claim to collect your award which you are selected  is \"SPAM\"\n"
     ]
    }
   ],
   "source": [
    "no_of_inp = int(input(\"Enter the No.of Strings to Be Entered: \"))\n",
    "mail = []\n",
    "for s in range(no_of_inp):\n",
    "    mail.append(input(\"Enter String: \"))\n",
    "    \n",
    "\n",
    "check=[]\n",
    "for i in range(len(mail)):  \n",
    "    rev = re.sub('[^a-zA-Z]',' ',mail[i])\n",
    "    rev = rev.lower()\n",
    "    rev = rev.split()\n",
    "    rev = [wordNet.lemmatize(word) for word in rev if word not in set(stopwords.words('english'))]\n",
    "    rev = ' '.join(rev)\n",
    "    check.append(rev)\n",
    "    \n",
    "pred=spam_model.predict(cv.transform(check))\n",
    "\n",
    "print(\"\\nResults:\")\n",
    "for i in range(len(pred)):\n",
    "    if pred[i]==0:\n",
    "        print(mail[i],' is \"NOT SPAM\"')\n",
    "        \n",
    "    else:\n",
    "        print(mail[i],' is \"SPAM\"')\n",
    "\n"
   ]
  },
  {
   "cell_type": "code",
   "execution_count": null,
   "id": "f11da483",
   "metadata": {},
   "outputs": [],
   "source": []
  }
 ],
 "metadata": {
  "kernelspec": {
   "display_name": "Python 3 (ipykernel)",
   "language": "python",
   "name": "python3"
  },
  "language_info": {
   "codemirror_mode": {
    "name": "ipython",
    "version": 3
   },
   "file_extension": ".py",
   "mimetype": "text/x-python",
   "name": "python",
   "nbconvert_exporter": "python",
   "pygments_lexer": "ipython3",
   "version": "3.9.7"
  }
 },
 "nbformat": 4,
 "nbformat_minor": 5
}
